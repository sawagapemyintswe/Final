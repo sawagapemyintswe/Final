{
  "nbformat": 4,
  "nbformat_minor": 0,
  "metadata": {
    "colab": {
      "provenance": []
    },
    "kernelspec": {
      "name": "python3",
      "display_name": "Python 3"
    },
    "language_info": {
      "name": "python"
    }
  },
  "cells": [
    {
      "cell_type": "code",
      "execution_count": null,
      "metadata": {
        "id": "Weov5LN3zGmO"
      },
      "outputs": [],
      "source": [
        "#[Question 1]\n",
        "b = {'city': ['Cupertino'], 'phone': ['408 996 1010'], 'state': ['CA'], 'country': ['United States'], 'website': ['https://www.apple.com'], 'recommendationKey': ['buy'], 'gross profits': [152836000000], 'freeCashflow': [73295003648], 'targetMedianPrice': [170], 'currentPrice': [174.56], 'earningsGrowth': [0.662], 'currentRatio': [1.075]}\n",
        "#find out where (the country) the Apple company is located and what is its gross profits.\n",
        "print(b['country'])\n",
        "print(b['gross profits'])\n",
        "import pandas as pd\n",
        "df = pd.DataFrame.from_dict(b)\n",
        "df"
      ]
    },
    {
      "cell_type": "code",
      "source": [
        "#[Question 2]\n",
        "!pip install pandas\n",
        "import pandas as pd\n",
        "df= pd.read_csv('rentals2')\n",
        "\n",
        "df['price']=df['price'].str.replace('$','')\n",
        "df['price']=df['price'].str.replace(',','')\n",
        "df['price']=df['price'].str.strip()\n",
        "df['price']=df['price'].astype(float)\n",
        "\n",
        " #+ write one-line python code (using groupby function) to print the average price of houses for each property type and\n",
        "print(df.groupby('property_type')['price'].mean())\n",
        "\n"
      ],
      "metadata": {
        "id": "usvCK_eX116w"
      },
      "execution_count": null,
      "outputs": []
    },
    {
      "cell_type": "code",
      "source": [
        "import matplotlib.pyplot as plt"
      ],
      "metadata": {
        "id": "urBVYUG44VuB"
      },
      "execution_count": 23,
      "outputs": []
    },
    {
      "cell_type": "code",
      "source": [],
      "metadata": {
        "id": "07uw9ee06RQo"
      },
      "execution_count": null,
      "outputs": []
    }
  ]
}